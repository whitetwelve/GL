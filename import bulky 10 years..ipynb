﻿{
  "metadata": {
    "name": "import bulky 10 years",
    "kernelspec": {
      "language": "scala",
      "name": "spark2-scala"
    },
    "language_info": {
      "codemirror_mode": "text/x-scala",
      "file_extension": ".scala",
      "mimetype": "text/x-scala",
      "name": "scala",
      "pygments_lexer": "scala"
    }
  },
  "nbformat": 4,
  "nbformat_minor": 2,
  "cells": [
    {
      "cell_type": "code",
      "execution_count": 0,
      "metadata": {
        "autoscroll": "auto"
      },
      "outputs": [],
      "source": "%spark2.pyspark\njdbcDF \u003d spark.read.format(\u0027jdbc\u0027).option(\u0027url\u0027, \u0027jdbc:oracle:thin:@10.206.130.140:1541/PRDGG\u0027)\\\n    .option(\u0027user\u0027, \u0027GGGGAPPSRO\u0027)\\\n    .option(\u0027dbtable\u0027,f\"(SELECT GJH.JE_HEADER_ID,\\\n                   GJH.BATCH_NAME,\\\n                   GJH.NAME JOURNAL_NAME,\\\n                   GJH.JE_SOURCE,\\\n                   GJH.JE_CATEGORY,\\\n                   GJH.DESCRIPTION HDR_DESCRIPTION,\\\n                   GJH.BATCH_POSTED_DATE,\\\n                   GJH.CREATION_DATE,\\\n                   GJH.CURRENCY_CODE,\\\n                   GJH.RUNNING_TOTAL_DR,\\\n                   GJH.RUNNING_TOTAL_CR,\\\n                   GJH.RUNNING_TOTAL_ACCOUNTED_DR,\\\n                   GJH.RUNNING_TOTAL_ACCOUNTED_CR,\\\n                   GJH.LEDGER_ID,\\\n                   GJH.PERIOD_NAME,\\\n                   GJH.STATUS HDR_STATUS,\\\n                   GJL.JE_LINE_NUM,\\\n                   GJL.SEGMENT2 KODE_PP,\\\n                   GJL.SEGMENT3 ACCOUNT,\\\n                   GJL.SEGMENT4 SUB_ACCOUNT,\\\n                   CASE\\\n                   WHEN GJL.SEGMENT4 \u003d \u002700\u0027 THEN\\\n                       (SELECT FFVL.DESCRIPTION\\\n                          FROM FND_FLEX_VALUES_VL FFVL\\\n                          WHERE FFVL.FLEX_VALUE_SET_ID \u003d 1014176\\\n                          AND FFVL.FLEX_VALUE \u003d GJL.SEGMENT3)\\\n                    ELSE\\\n                        (SELECT FFVL.DESCRIPTION\\\n                          FROM FND_FLEX_VALUES_VL FFVL\\\n                          WHERE FFVL.FLEX_VALUE_SET_ID \u003d 1014176\\\n                          AND FFVL.FLEX_VALUE \u003d GJL.SEGMENT3)||\u0027-\u0027||\\\n                        (SELECT FFVL.DESCRIPTION\\\n                          FROM FND_FLEX_VALUES_VL FFVL\\\n                          WHERE FFVL.FLEX_VALUE_SET_ID \u003d 1014177\\\n                          AND FFVL.PARENT_FLEX_VALUE_LOW \u003d GJL.SEGMENT3\\\n                          AND FFVL.FLEX_VALUE \u003d GJL.SEGMENT4)\\\n                   END ACCOUNT_DESC,\\\n                   (GJL.SEGMENT1\\\n                   || \u0027.\u0027\\\n                   || GJL.SEGMENT2\\\n                   || \u0027.\u0027\\\n                   || GJL.SEGMENT3\\\n                   || \u0027.\u0027\\\n                   || GJL.SEGMENT4\\\n                   || \u0027.\u0027\\\n                   || GJL.SEGMENT5\\\n                   || \u0027.\u0027\\\n                   || GJL.SEGMENT6 )GL_ACCOUNT,\\\n                   GJL.DESCRIPTION LINE_DESCRIPTION,\\\n                   GJL.ACCOUNTED_DR,\\\n                   GJL.ACCOUNTED_CR,\\\n                   GJL.STATUS,\\\n                   FU.USER_NAME ENTERED_BY\\\n                FROM GL_JE_HEADERS_V GJH,\\\n                   GL_JE_LINES_V GJL,\\\n                   GL_JE_BATCHES GJB,\\\n                   FND_USER FU,\\\n                   GL_LEDGERS GL\\\n                WHERE GJH.LEDGER_ID \u003d GL.LEDGER_ID\\\n                AND GJH.JE_HEADER_ID \u003d GJL.JE_HEADER_ID\\\n                AND GJH.JE_BATCH_ID \u003d GJB.JE_BATCH_ID (+)\\\n                AND GJH.CREATED_BY \u003d FU.USER_ID\\\n                AND GJH.STATUS \u003d \u0027P\u0027\\\n                AND trunc(GJH.CREATION_DATE) between to_date(\u00272013-01-01\u0027, \u0027YYYY-MM-DD\u0027) and to_date(\u00272023-08-15\u0027, \u0027YYYY-MM-DD\u0027)) tmp\")\\\n    .option(\u0027password\u0027, \u0027k3d1r1\u0027)\\\n    .option(\u0027driver\u0027, \u0027oracle.jdbc.driver.OracleDriver\u0027)\\\n    .load()"
    },
    {
      "cell_type": "code",
      "execution_count": 1,
      "metadata": {
        "autoscroll": "auto"
      },
      "outputs": [],
      "source": "%spark2.pyspark\n\nfrom pyspark.sql.types import StringType, DateType, FloatType, DecimalType, IntegerType\n\nfor column in jdbcDF.columns:\n    # jdbcDF \u003d jdbcDF.withColumn(column, col(column).cast(\"string\"))\n    jdbcDF \u003d jdbcDF.withColumnRenamed(column, column.lower())\n\njdbcDF \u003d jdbcDF \\\n    .withColumn(\"je_header_id\" , jdbcDF[\"je_header_id\"].cast(StringType()))\\\n    .withColumn(\"running_total_dr\" , jdbcDF[\"running_total_dr\"].cast(DecimalType(38, 18)))\\\n    .withColumn(\"running_total_cr\" , jdbcDF[\"running_total_cr\"].cast(DecimalType(38, 18)))\\\n    .withColumn(\"running_total_accounted_dr\" , jdbcDF[\"running_total_accounted_dr\"].cast(DecimalType(38, 18)))\\\n    .withColumn(\"running_total_accounted_cr\" , jdbcDF[\"running_total_accounted_cr\"].cast(DecimalType(38, 18)))\\\n    .withColumn(\"ledger_id\" , jdbcDF[\"ledger_id\"].cast(StringType()))\\\n    .withColumn(\"je_line_num\" , jdbcDF[\"je_line_num\"].cast(StringType()))\\\n    .withColumn(\"accounted_dr\" , jdbcDF[\"accounted_dr\"].cast(DecimalType(38, 18)))\\\n    .withColumn(\"accounted_cr\" , jdbcDF[\"accounted_cr\"].cast(DecimalType(38, 18)))\n    \njdbcDF.printSchema()\n"
    },
    {
      "cell_type": "code",
      "execution_count": 2,
      "metadata": {
        "autoscroll": "auto"
      },
      "outputs": [],
      "source": "%spark2.pyspark\n\njdbcDF.write.format(\"parquet\") \\\n    .option(\"transactional\", \"false\") \\\n    .mode(\"overwrite\") \\\n    .saveAsTable(\"dev_gl_storage.dev_gl\")"
    },
    {
      "cell_type": "code",
      "execution_count": 3,
      "metadata": {
        "autoscroll": "auto"
      },
      "outputs": [],
      "source": "%spark2.pyspark\n"
    }
  ]
}