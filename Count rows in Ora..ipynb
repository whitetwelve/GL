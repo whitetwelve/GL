﻿{
  "metadata": {
    "name": "Count rows in Ora",
    "kernelspec": {
      "language": "scala",
      "name": "spark2-scala"
    },
    "language_info": {
      "codemirror_mode": "text/x-scala",
      "file_extension": ".scala",
      "mimetype": "text/x-scala",
      "name": "scala",
      "pygments_lexer": "scala"
    }
  },
  "nbformat": 4,
  "nbformat_minor": 2,
  "cells": [
    {
      "cell_type": "code",
      "execution_count": 0,
      "metadata": {
        "autoscroll": "auto"
      },
      "outputs": [],
      "source": "SELECT COUNT(1) FROM ( SELECT\r\n                     GJH.JE_HEADER_ID,\r\n                     GJH.BATCH_NAME,\r\n                     GJH.NAME JOURNAL_NAME,\r\n                     GJH.JE_SOURCE,\r\n                     GJH.JE_CATEGORY,\r\n                     GJH.DESCRIPTION HDR_DESCRIPTION,\r\n                     GJH.BATCH_POSTED_DATE,\r\n                     GJH.CREATION_DATE,\r\n                     GJH.CURRENCY_CODE,\r\n                     GJH.RUNNING_TOTAL_DR,\r\n                     GJH.RUNNING_TOTAL_CR,\r\n                     GJH.RUNNING_TOTAL_ACCOUNTED_DR,\r\n                     GJH.RUNNING_TOTAL_ACCOUNTED_CR,\r\n                     GJH.LEDGER_ID,\r\n                     GJH.PERIOD_NAME,\r\n                     GJH.STATUS HDR_STATUS,\r\n                     GJL.JE_LINE_NUM,\r\n                     GJL.SEGMENT2 KODE_PP,\r\n                     GJL.SEGMENT3 ACCOUNT,\r\n                     GJL.SEGMENT4 SUB_ACCOUNT,\r\n                     CASE\r\n                     WHEN GJL.SEGMENT4 \u003d \u002700\u0027 THEN\r\n                        (SELECT FFVL.DESCRIPTION\r\n                           FROM FND_FLEX_VALUES_VL FFVL\r\n                           WHERE FFVL.FLEX_VALUE_SET_ID \u003d 1014176\r\n                           AND FFVL.FLEX_VALUE \u003d GJL.SEGMENT3)\r\n                     ELSE\r\n                           (SELECT FFVL.DESCRIPTION\r\n                           FROM FND_FLEX_VALUES_VL FFVL\r\n                           WHERE FFVL.FLEX_VALUE_SET_ID \u003d 1014176\r\n                           AND FFVL.FLEX_VALUE \u003d GJL.SEGMENT3)||\u0027-\u0027||\r\n                           (SELECT FFVL.DESCRIPTION\r\n                           FROM FND_FLEX_VALUES_VL FFVL\r\n                           WHERE FFVL.FLEX_VALUE_SET_ID \u003d 1014177\r\n                           AND FFVL.PARENT_FLEX_VALUE_LOW \u003d GJL.SEGMENT3\r\n                           AND FFVL.FLEX_VALUE \u003d GJL.SEGMENT4)\r\n                     END ACCOUNT_DESC,\r\n                     (GJL.SEGMENT1\r\n                     || \u0027.\u0027\r\n                     || GJL.SEGMENT2\r\n                     || \u0027.\u0027\r\n                     || GJL.SEGMENT3\r\n                     || \u0027.\u0027\r\n                     || GJL.SEGMENT4\r\n                     || \u0027.\u0027\r\n                     || GJL.SEGMENT5\r\n                     || \u0027.\u0027\r\n                     || GJL.SEGMENT6 )GL_ACCOUNT,\r\n                     GJL.DESCRIPTION LINE_DESCRIPTION,\r\n                     GJL.ACCOUNTED_DR,\r\n                     GJL.ACCOUNTED_CR,\r\n                     GJL.STATUS,\r\n                     FU.USER_NAME ENTERED_BY\r\n                  FROM GL_JE_HEADERS_V GJH,\r\n                     GL_JE_LINES_V GJL,\r\n                     GL_JE_BATCHES GJB,\r\n                     FND_USER FU,\r\n                     GL_LEDGERS GL\r\n                  WHERE GJH.LEDGER_ID \u003d GL.LEDGER_ID \r\n                  AND GJH.JE_HEADER_ID \u003d GJL.JE_HEADER_ID \r\n                  AND GJH.JE_BATCH_ID \u003d GJB.JE_BATCH_ID (+) \r\n                  AND GJH.CREATED_BY \u003d FU.USER_ID\r\n                  AND GJH.STATUS \u003d \u0027P\u0027\r\n                  AND trunc(GJH.BATCH_POSTED_DATE) between to_date(\u00272013-01-01\u0027, \u0027YYYY-MM-DD\u0027) and to_date(\u00272023-08-14\u0027, \u0027YYYY-MM-DD\u0027))"
    }
  ]
}